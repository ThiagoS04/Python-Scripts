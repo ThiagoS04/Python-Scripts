{
 "cells": [
  {
   "cell_type": "markdown",
   "id": "ba85fe2c",
   "metadata": {},
   "source": [
    "# Basic Data Science Topics from Chapters 1-4"
   ]
  },
  {
   "cell_type": "markdown",
   "id": "510ea2d1",
   "metadata": {},
   "source": [
    "## Importing libraries and listing their functions"
   ]
  },
  {
   "cell_type": "code",
   "execution_count": 1,
   "id": "dab09ff9",
   "metadata": {},
   "outputs": [],
   "source": [
    "import math"
   ]
  },
  {
   "cell_type": "code",
   "execution_count": null,
   "id": "3cdcecf2",
   "metadata": {},
   "outputs": [],
   "source": [
    "#math.<tab> identifies the list of functions in the math library\n",
    "math."
   ]
  },
  {
   "cell_type": "code",
   "execution_count": 2,
   "id": "2fa7e6d9",
   "metadata": {},
   "outputs": [],
   "source": [
    "#add a ? at the end and it will provide a description of the function\n",
    "math.isnan?"
   ]
  },
  {
   "cell_type": "markdown",
   "id": "db07b013",
   "metadata": {},
   "source": [
    "## Simple Measures and Statistics"
   ]
  },
  {
   "cell_type": "code",
   "execution_count": 3,
   "id": "95ccaabe",
   "metadata": {},
   "outputs": [
    {
     "data": {
      "text/plain": [
       "65"
      ]
     },
     "execution_count": 3,
     "metadata": {},
     "output_type": "execute_result"
    }
   ],
   "source": [
    "grades = [80, 90, 100, 65, 75, 95]\n",
    "min(grades)"
   ]
  },
  {
   "cell_type": "code",
   "execution_count": 4,
   "id": "72f71b57",
   "metadata": {},
   "outputs": [
    {
     "data": {
      "text/plain": [
       "100"
      ]
     },
     "execution_count": 4,
     "metadata": {},
     "output_type": "execute_result"
    }
   ],
   "source": [
    "max(grades)"
   ]
  },
  {
   "cell_type": "code",
   "execution_count": 5,
   "id": "95d89452",
   "metadata": {},
   "outputs": [
    {
     "data": {
      "text/plain": [
       "'Amanda'"
      ]
     },
     "execution_count": 5,
     "metadata": {},
     "output_type": "execute_result"
    }
   ],
   "source": [
    "names = ['Jack', 'Amanda', 'Nathan', 'Isabel', 'Zoe']\n",
    "min(names)"
   ]
  },
  {
   "cell_type": "code",
   "execution_count": 6,
   "id": "896ccfd1",
   "metadata": {},
   "outputs": [
    {
     "data": {
      "text/plain": [
       "505"
      ]
     },
     "execution_count": 6,
     "metadata": {},
     "output_type": "execute_result"
    }
   ],
   "source": [
    "sum(grades)"
   ]
  },
  {
   "cell_type": "code",
   "execution_count": 18,
   "id": "45e66a5f",
   "metadata": {},
   "outputs": [
    {
     "data": {
      "text/plain": [
       "6"
      ]
     },
     "execution_count": 18,
     "metadata": {},
     "output_type": "execute_result"
    }
   ],
   "source": [
    "len(grades)"
   ]
  },
  {
   "cell_type": "code",
   "execution_count": 19,
   "id": "d3ae2944",
   "metadata": {},
   "outputs": [
    {
     "data": {
      "text/plain": [
       "[65, 75, 80, 90, 95, 100]"
      ]
     },
     "execution_count": 19,
     "metadata": {},
     "output_type": "execute_result"
    }
   ],
   "source": [
    "sorted(grades)"
   ]
  },
  {
   "cell_type": "code",
   "execution_count": 20,
   "id": "aa729fea",
   "metadata": {},
   "outputs": [
    {
     "data": {
      "text/plain": [
       "['Amanda', 'Isabel', 'Jack', 'Nathan', 'Zoe']"
      ]
     },
     "execution_count": 20,
     "metadata": {},
     "output_type": "execute_result"
    }
   ],
   "source": [
    "sorted(names)"
   ]
  },
  {
   "cell_type": "markdown",
   "id": "08eed468",
   "metadata": {},
   "source": [
    "## The Statistics Library"
   ]
  },
  {
   "cell_type": "code",
   "execution_count": 8,
   "id": "099e2326",
   "metadata": {},
   "outputs": [],
   "source": [
    "import statistics as stats"
   ]
  },
  {
   "cell_type": "code",
   "execution_count": 9,
   "id": "506f975f",
   "metadata": {},
   "outputs": [
    {
     "data": {
      "text/plain": [
       "84.16666666666667"
      ]
     },
     "execution_count": 9,
     "metadata": {},
     "output_type": "execute_result"
    }
   ],
   "source": [
    "stats.mean(grades)"
   ]
  },
  {
   "cell_type": "code",
   "execution_count": 10,
   "id": "c5c70ef8",
   "metadata": {},
   "outputs": [
    {
     "data": {
      "text/plain": [
       "80"
      ]
     },
     "execution_count": 10,
     "metadata": {},
     "output_type": "execute_result"
    }
   ],
   "source": [
    "stats.mode(grades)"
   ]
  },
  {
   "cell_type": "code",
   "execution_count": 11,
   "id": "d5257fbb",
   "metadata": {},
   "outputs": [
    {
     "data": {
      "text/plain": [
       "85.0"
      ]
     },
     "execution_count": 11,
     "metadata": {},
     "output_type": "execute_result"
    }
   ],
   "source": [
    "stats.median(grades)"
   ]
  },
  {
   "cell_type": "code",
   "execution_count": 12,
   "id": "794eb42a",
   "metadata": {},
   "outputs": [
    {
     "data": {
      "text/plain": [
       "145.13888888888889"
      ]
     },
     "execution_count": 12,
     "metadata": {},
     "output_type": "execute_result"
    }
   ],
   "source": [
    "stats.pvariance(grades)"
   ]
  },
  {
   "cell_type": "code",
   "execution_count": 13,
   "id": "58ddf2f4",
   "metadata": {},
   "outputs": [
    {
     "data": {
      "text/plain": [
       "12.047360245667466"
      ]
     },
     "execution_count": 13,
     "metadata": {},
     "output_type": "execute_result"
    }
   ],
   "source": [
    "stats.pstdev(grades)"
   ]
  },
  {
   "cell_type": "code",
   "execution_count": null,
   "id": "90755430",
   "metadata": {},
   "outputs": [],
   "source": []
  }
 ],
 "metadata": {
  "kernelspec": {
   "display_name": "Python 3 (ipykernel)",
   "language": "python",
   "name": "python3"
  },
  "language_info": {
   "codemirror_mode": {
    "name": "ipython",
    "version": 3
   },
   "file_extension": ".py",
   "mimetype": "text/x-python",
   "name": "python",
   "nbconvert_exporter": "python",
   "pygments_lexer": "ipython3",
   "version": "3.8.12"
  }
 },
 "nbformat": 4,
 "nbformat_minor": 5
}
