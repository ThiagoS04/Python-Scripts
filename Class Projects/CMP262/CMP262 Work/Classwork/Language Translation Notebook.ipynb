{
 "cells": [
  {
   "cell_type": "code",
   "execution_count": 1,
   "id": "1d1bb78a",
   "metadata": {},
   "outputs": [
    {
     "name": "stdout",
     "output_type": "stream",
     "text": [
      "Collecting translators\n",
      "  Obtaining dependency information for translators from https://files.pythonhosted.org/packages/25/68/9334a80ec0f54b294f1f4dee50494e6a21c5badc1a8e11270037bc177d88/translators-5.8.9-py3-none-any.whl.metadata\n",
      "  Downloading translators-5.8.9-py3-none-any.whl.metadata (68 kB)\n",
      "     ---------------------------------------- 0.0/68.5 kB ? eta -:--:--\n",
      "     ---------------------------------------- 68.5/68.5 kB 3.9 MB/s eta 0:00:00\n",
      "Requirement already satisfied: requests>=2.29.0 in c:\\users\\thiag\\anaconda3\\lib\\site-packages (from translators) (2.31.0)\n",
      "Collecting PyExecJS>=1.5.1 (from translators)\n",
      "  Downloading PyExecJS-1.5.1.tar.gz (13 kB)\n",
      "  Preparing metadata (setup.py): started\n",
      "  Preparing metadata (setup.py): finished with status 'done'\n",
      "Requirement already satisfied: lxml>=4.9.1 in c:\\users\\thiag\\anaconda3\\lib\\site-packages (from translators) (4.9.2)\n",
      "Requirement already satisfied: tqdm>=4.65.0 in c:\\users\\thiag\\anaconda3\\lib\\site-packages (from translators) (4.65.0)\n",
      "Collecting pathos>=0.2.9 (from translators)\n",
      "  Obtaining dependency information for pathos>=0.2.9 from https://files.pythonhosted.org/packages/d8/08/ac94fa6f9eefe32963b8a54e573dab0dbc0d3df24fd34924bd9ce7eab7c4/pathos-0.3.1-py3-none-any.whl.metadata\n",
      "  Downloading pathos-0.3.1-py3-none-any.whl.metadata (11 kB)\n",
      "Requirement already satisfied: cryptography>=38.0.1 in c:\\users\\thiag\\anaconda3\\lib\\site-packages (from translators) (41.0.2)\n",
      "Requirement already satisfied: cffi>=1.12 in c:\\users\\thiag\\anaconda3\\lib\\site-packages (from cryptography>=38.0.1->translators) (1.15.1)\n",
      "Collecting ppft>=1.7.6.7 (from pathos>=0.2.9->translators)\n",
      "  Obtaining dependency information for ppft>=1.7.6.7 from https://files.pythonhosted.org/packages/f0/f8/0a493dfdf73edbfe58cae1323aec72d0152f463c7a351bd285e9d500985c/ppft-1.7.6.7-py3-none-any.whl.metadata\n",
      "  Downloading ppft-1.7.6.7-py3-none-any.whl.metadata (12 kB)\n",
      "Requirement already satisfied: dill>=0.3.7 in c:\\users\\thiag\\anaconda3\\lib\\site-packages (from pathos>=0.2.9->translators) (0.3.7)\n",
      "Collecting pox>=0.3.3 (from pathos>=0.2.9->translators)\n",
      "  Obtaining dependency information for pox>=0.3.3 from https://files.pythonhosted.org/packages/17/c7/ef7e37e5a895f5de068b408a52bee0710b1092574b6b4ab247a767e9fbd5/pox-0.3.3-py3-none-any.whl.metadata\n",
      "  Downloading pox-0.3.3-py3-none-any.whl.metadata (8.0 kB)\n",
      "Collecting multiprocess>=0.70.15 (from pathos>=0.2.9->translators)\n",
      "  Obtaining dependency information for multiprocess>=0.70.15 from https://files.pythonhosted.org/packages/e7/41/96ac938770ba6e7d5ae1d8c9cafebac54b413549042c6260f0d0a6ec6622/multiprocess-0.70.15-py311-none-any.whl.metadata\n",
      "  Downloading multiprocess-0.70.15-py311-none-any.whl.metadata (7.2 kB)\n",
      "Requirement already satisfied: six>=1.10.0 in c:\\users\\thiag\\appdata\\roaming\\python\\python311\\site-packages (from PyExecJS>=1.5.1->translators) (1.16.0)\n",
      "Requirement already satisfied: charset-normalizer<4,>=2 in c:\\users\\thiag\\anaconda3\\lib\\site-packages (from requests>=2.29.0->translators) (2.0.4)\n",
      "Requirement already satisfied: idna<4,>=2.5 in c:\\users\\thiag\\anaconda3\\lib\\site-packages (from requests>=2.29.0->translators) (3.4)\n",
      "Requirement already satisfied: urllib3<3,>=1.21.1 in c:\\users\\thiag\\anaconda3\\lib\\site-packages (from requests>=2.29.0->translators) (1.26.16)\n",
      "Requirement already satisfied: certifi>=2017.4.17 in c:\\users\\thiag\\anaconda3\\lib\\site-packages (from requests>=2.29.0->translators) (2023.7.22)\n",
      "Requirement already satisfied: colorama in c:\\users\\thiag\\appdata\\roaming\\python\\python311\\site-packages (from tqdm>=4.65.0->translators) (0.4.6)\n",
      "Requirement already satisfied: pycparser in c:\\users\\thiag\\anaconda3\\lib\\site-packages (from cffi>=1.12->cryptography>=38.0.1->translators) (2.21)\n",
      "Downloading translators-5.8.9-py3-none-any.whl (54 kB)\n",
      "   ---------------------------------------- 0.0/54.7 kB ? eta -:--:--\n",
      "   ---------------------------------------- 54.7/54.7 kB ? eta 0:00:00\n",
      "Downloading pathos-0.3.1-py3-none-any.whl (82 kB)\n",
      "   ---------------------------------------- 0.0/82.1 kB ? eta -:--:--\n",
      "   ------------------- -------------------- 41.0/82.1 kB 2.0 MB/s eta 0:00:01\n",
      "   ---------------------------------------- 82.1/82.1 kB 1.2 MB/s eta 0:00:00\n",
      "Downloading multiprocess-0.70.15-py311-none-any.whl (135 kB)\n",
      "   ---------------------------------------- 0.0/135.4 kB ? eta -:--:--\n",
      "   ------------ --------------------------- 41.0/135.4 kB 2.0 MB/s eta 0:00:01\n",
      "   ------------ --------------------------- 41.0/135.4 kB 2.0 MB/s eta 0:00:01\n",
      "   ------------------------------- ------ 112.6/135.4 kB 939.4 kB/s eta 0:00:01\n",
      "   -------------------------------------- 135.4/135.4 kB 802.3 kB/s eta 0:00:00\n",
      "Downloading pox-0.3.3-py3-none-any.whl (29 kB)\n",
      "Downloading ppft-1.7.6.7-py3-none-any.whl (56 kB)\n",
      "   ---------------------------------------- 0.0/56.8 kB ? eta -:--:--\n",
      "   ------- -------------------------------- 10.2/56.8 kB ? eta -:--:--\n",
      "   ------------------------------------ --- 51.2/56.8 kB 871.5 kB/s eta 0:00:01\n",
      "   ---------------------------------------- 56.8/56.8 kB 990.4 kB/s eta 0:00:00\n",
      "Building wheels for collected packages: PyExecJS\n",
      "  Building wheel for PyExecJS (setup.py): started\n",
      "  Building wheel for PyExecJS (setup.py): finished with status 'done'\n",
      "  Created wheel for PyExecJS: filename=PyExecJS-1.5.1-py3-none-any.whl size=14608 sha256=68dfa86378b7a06099fe73a88a5ce0f2255a78cacf3458df18b34477a26a5f41\n",
      "  Stored in directory: c:\\users\\thiag\\appdata\\local\\pip\\cache\\wheels\\0e\\29\\b2\\02d071c92586aa5dbfd67cda8aea1a680900a530217d5ecf6c\n",
      "Successfully built PyExecJS\n",
      "Installing collected packages: PyExecJS, ppft, pox, multiprocess, pathos, translators\n",
      "Successfully installed PyExecJS-1.5.1 multiprocess-0.70.15 pathos-0.3.1 pox-0.3.3 ppft-1.7.6.7 translators-5.8.9\n"
     ]
    }
   ],
   "source": [
    "!pip install translators --user"
   ]
  },
  {
   "cell_type": "code",
   "execution_count": 2,
   "id": "64d0066d",
   "metadata": {},
   "outputs": [
    {
     "name": "stderr",
     "output_type": "stream",
     "text": [
      "WARNING: Skipping googletrans as it is not installed.\n",
      "WARNING: Skipping pyqt as it is not installed.\n"
     ]
    },
    {
     "name": "stdout",
     "output_type": "stream",
     "text": [
      "Found existing installation: PyQtWebEngine 5.15.4\n",
      "Uninstalling PyQtWebEngine-5.15.4:\n",
      "  Successfully uninstalled PyQtWebEngine-5.15.4\n"
     ]
    }
   ],
   "source": [
    "!pip3 uninstall googletrans --yes\n",
    "!pip3 uninstall pyqt --yes\n",
    "!pip3 uninstall pyqtwebengine --yes"
   ]
  },
  {
   "cell_type": "code",
   "execution_count": 3,
   "id": "4e999d97",
   "metadata": {},
   "outputs": [
    {
     "name": "stdout",
     "output_type": "stream",
     "text": [
      "Collecting googletrans==3.1.0a0\n",
      "  Downloading googletrans-3.1.0a0.tar.gz (19 kB)\n",
      "  Preparing metadata (setup.py): started\n",
      "  Preparing metadata (setup.py): finished with status 'done'\n",
      "Collecting httpx==0.13.3 (from googletrans==3.1.0a0)\n",
      "  Downloading httpx-0.13.3-py3-none-any.whl (55 kB)\n",
      "     ---------------------------------------- 0.0/55.1 kB ? eta -:--:--\n",
      "     ----------------------------- ---------- 41.0/55.1 kB 1.9 MB/s eta 0:00:01\n",
      "     ----------------------------- ---------- 41.0/55.1 kB 1.9 MB/s eta 0:00:01\n",
      "     -------------------------------------- 55.1/55.1 kB 411.6 kB/s eta 0:00:00\n",
      "Requirement already satisfied: certifi in c:\\users\\thiag\\anaconda3\\lib\\site-packages (from httpx==0.13.3->googletrans==3.1.0a0) (2023.7.22)\n",
      "Collecting hstspreload (from httpx==0.13.3->googletrans==3.1.0a0)\n",
      "  Downloading hstspreload-2023.1.1-py3-none-any.whl (1.5 MB)\n",
      "     ---------------------------------------- 0.0/1.5 MB ? eta -:--:--\n",
      "     - -------------------------------------- 0.1/1.5 MB 2.0 MB/s eta 0:00:01\n",
      "     -- ------------------------------------- 0.1/1.5 MB 1.1 MB/s eta 0:00:02\n",
      "     ---- ----------------------------------- 0.2/1.5 MB 1.5 MB/s eta 0:00:01\n",
      "     ----- ---------------------------------- 0.2/1.5 MB 1.4 MB/s eta 0:00:01\n",
      "     ------ --------------------------------- 0.3/1.5 MB 1.2 MB/s eta 0:00:02\n",
      "     -------- ------------------------------- 0.3/1.5 MB 1.3 MB/s eta 0:00:01\n",
      "     ---------- ----------------------------- 0.4/1.5 MB 1.3 MB/s eta 0:00:01\n",
      "     ----------- ---------------------------- 0.5/1.5 MB 1.3 MB/s eta 0:00:01\n",
      "     ----------- ---------------------------- 0.5/1.5 MB 1.3 MB/s eta 0:00:01\n",
      "     ------------ --------------------------- 0.5/1.5 MB 1.1 MB/s eta 0:00:01\n",
      "     ------------- -------------------------- 0.5/1.5 MB 1.1 MB/s eta 0:00:01\n",
      "     ------------- -------------------------- 0.5/1.5 MB 983.5 kB/s eta 0:00:02\n",
      "     -------------- ------------------------- 0.6/1.5 MB 956.7 kB/s eta 0:00:02\n",
      "     --------------- ------------------------ 0.6/1.5 MB 966.7 kB/s eta 0:00:01\n",
      "     ----------------- ---------------------- 0.7/1.5 MB 983.4 kB/s eta 0:00:01\n",
      "     ----------------- ---------------------- 0.7/1.5 MB 967.4 kB/s eta 0:00:01\n",
      "     ------------------ --------------------- 0.7/1.5 MB 947.4 kB/s eta 0:00:01\n",
      "     ------------------ --------------------- 0.7/1.5 MB 899.4 kB/s eta 0:00:01\n",
      "     ------------------- -------------------- 0.8/1.5 MB 885.7 kB/s eta 0:00:01\n",
      "     -------------------- ------------------- 0.8/1.5 MB 847.7 kB/s eta 0:00:01\n",
      "     --------------------- ------------------ 0.8/1.5 MB 848.9 kB/s eta 0:00:01\n",
      "     ---------------------- ----------------- 0.9/1.5 MB 836.5 kB/s eta 0:00:01\n",
      "     ----------------------- ---------------- 0.9/1.5 MB 841.1 kB/s eta 0:00:01\n",
      "     ----------------------- ---------------- 0.9/1.5 MB 838.1 kB/s eta 0:00:01\n",
      "     ------------------------- -------------- 1.0/1.5 MB 852.6 kB/s eta 0:00:01\n",
      "     -------------------------- ------------- 1.0/1.5 MB 851.2 kB/s eta 0:00:01\n",
      "     --------------------------- ------------ 1.1/1.5 MB 852.0 kB/s eta 0:00:01\n",
      "     ----------------------------- ---------- 1.1/1.5 MB 876.4 kB/s eta 0:00:01\n",
      "     ------------------------------ --------- 1.2/1.5 MB 843.3 kB/s eta 0:00:01\n",
      "     ------------------------------ --------- 1.2/1.5 MB 858.4 kB/s eta 0:00:01\n",
      "     -------------------------------- ------- 1.2/1.5 MB 845.7 kB/s eta 0:00:01\n",
      "     -------------------------------- ------- 1.3/1.5 MB 859.8 kB/s eta 0:00:01\n",
      "     ---------------------------------- ----- 1.3/1.5 MB 849.4 kB/s eta 0:00:01\n",
      "     ---------------------------------- ----- 1.3/1.5 MB 851.7 kB/s eta 0:00:01\n",
      "     ------------------------------------ --- 1.4/1.5 MB 857.0 kB/s eta 0:00:01\n",
      "     -------------------------------------- - 1.5/1.5 MB 875.8 kB/s eta 0:00:01\n",
      "     ---------------------------------------  1.5/1.5 MB 881.6 kB/s eta 0:00:01\n",
      "     ---------------------------------------- 1.5/1.5 MB 882.8 kB/s eta 0:00:00\n",
      "Requirement already satisfied: sniffio in c:\\users\\thiag\\anaconda3\\lib\\site-packages (from httpx==0.13.3->googletrans==3.1.0a0) (1.2.0)\n",
      "Collecting chardet==3.* (from httpx==0.13.3->googletrans==3.1.0a0)\n",
      "  Downloading chardet-3.0.4-py2.py3-none-any.whl (133 kB)\n",
      "     ---------------------------------------- 0.0/133.4 kB ? eta -:--:--\n",
      "     --------- ------------------------------ 30.7/133.4 kB ? eta -:--:--\n",
      "     ------------------- ----------------- 71.7/133.4 kB 787.7 kB/s eta 0:00:01\n",
      "     -----------------------------------  133.1/133.4 kB 983.0 kB/s eta 0:00:01\n",
      "     ------------------------------------ 133.4/133.4 kB 879.4 kB/s eta 0:00:00\n",
      "Collecting idna==2.* (from httpx==0.13.3->googletrans==3.1.0a0)\n",
      "  Downloading idna-2.10-py2.py3-none-any.whl (58 kB)\n",
      "     ---------------------------------------- 0.0/58.8 kB ? eta -:--:--\n",
      "     -------------------------- ----------- 41.0/58.8 kB 991.0 kB/s eta 0:00:01\n",
      "     ---------------------------------------- 58.8/58.8 kB 1.0 MB/s eta 0:00:00\n",
      "Collecting rfc3986<2,>=1.3 (from httpx==0.13.3->googletrans==3.1.0a0)\n",
      "  Downloading rfc3986-1.5.0-py2.py3-none-any.whl (31 kB)\n",
      "Collecting httpcore==0.9.* (from httpx==0.13.3->googletrans==3.1.0a0)\n",
      "  Downloading httpcore-0.9.1-py3-none-any.whl (42 kB)\n",
      "     ---------------------------------------- 0.0/42.6 kB ? eta -:--:--\n",
      "     -------------------------------------- - 41.0/42.6 kB ? eta -:--:--\n",
      "     ---------------------------------------- 42.6/42.6 kB 2.2 MB/s eta 0:00:00\n",
      "Collecting h11<0.10,>=0.8 (from httpcore==0.9.*->httpx==0.13.3->googletrans==3.1.0a0)\n",
      "  Downloading h11-0.9.0-py2.py3-none-any.whl (53 kB)\n",
      "     ---------------------------------------- 0.0/53.6 kB ? eta -:--:--\n",
      "     ---------------------- ----------------- 30.7/53.6 kB ? eta -:--:--\n",
      "     ---------------------- ----------------- 30.7/53.6 kB ? eta -:--:--\n",
      "     -------------------------------------- 53.6/53.6 kB 688.4 kB/s eta 0:00:00\n",
      "Collecting h2==3.* (from httpcore==0.9.*->httpx==0.13.3->googletrans==3.1.0a0)\n",
      "  Downloading h2-3.2.0-py2.py3-none-any.whl (65 kB)\n",
      "     ---------------------------------------- 0.0/65.0 kB ? eta -:--:--\n",
      "     ---------------------------------------- 65.0/65.0 kB 1.8 MB/s eta 0:00:00\n",
      "Collecting hyperframe<6,>=5.2.0 (from h2==3.*->httpcore==0.9.*->httpx==0.13.3->googletrans==3.1.0a0)\n",
      "  Downloading hyperframe-5.2.0-py2.py3-none-any.whl (12 kB)\n",
      "Collecting hpack<4,>=3.0 (from h2==3.*->httpcore==0.9.*->httpx==0.13.3->googletrans==3.1.0a0)\n",
      "  Downloading hpack-3.0.0-py2.py3-none-any.whl (38 kB)\n",
      "Building wheels for collected packages: googletrans\n",
      "  Building wheel for googletrans (setup.py): started\n",
      "  Building wheel for googletrans (setup.py): finished with status 'done'\n",
      "  Created wheel for googletrans: filename=googletrans-3.1.0a0-py3-none-any.whl size=16415 sha256=03a29ae763c6cab66f9b7d4b390396981c8769a158fa252e221c59063355dd8f\n",
      "  Stored in directory: c:\\users\\thiag\\appdata\\local\\pip\\cache\\wheels\\81\\f2\\e0\\d578821d723b473d18610ea93810e4a5402463919f07e603d9\n",
      "Successfully built googletrans\n",
      "Installing collected packages: rfc3986, hyperframe, hpack, h11, chardet, idna, hstspreload, h2, httpcore, httpx, googletrans\n",
      "Successfully installed chardet-3.0.4 googletrans-3.1.0a0 h11-0.9.0 h2-3.2.0 hpack-3.0.0 hstspreload-2023.1.1 httpcore-0.9.1 httpx-0.13.3 hyperframe-5.2.0 idna-2.10 rfc3986-1.5.0\n"
     ]
    },
    {
     "name": "stderr",
     "output_type": "stream",
     "text": [
      "  WARNING: The script chardetect.exe is installed in 'C:\\Users\\Thiag\\AppData\\Roaming\\Python\\Python311\\Scripts' which is not on PATH.\n",
      "  Consider adding this directory to PATH or, if you prefer to suppress this warning, use --no-warn-script-location.\n",
      "ERROR: pip's dependency resolver does not currently take into account all the packages that are installed. This behaviour is the source of the following dependency conflicts.\n",
      "spyder 5.4.3 requires pyqtwebengine<5.16, which is not installed.\n",
      "transformers 2.1.1 requires sentencepiece, which is not installed.\n",
      "spyder 5.4.3 requires jedi<0.19.0,>=0.17.2, but you have jedi 0.19.0 which is incompatible.\n",
      "ERROR: Could not find a version that satisfies the requirement pyqt5==5.12.3 (from versions: 5.14.0, 5.14.1, 5.14.2, 5.15.0, 5.15.1, 5.15.2, 5.15.3, 5.15.4, 5.15.5, 5.15.6, 5.15.7, 5.15.8, 5.15.9, 5.15.10)\n",
      "ERROR: No matching distribution found for pyqt5==5.12.3\n",
      "ERROR: Could not find a version that satisfies the requirement pyqtwebengine==5.12.1 (from versions: 5.14.0, 5.15.0, 5.15.1, 5.15.2, 5.15.3, 5.15.4, 5.15.5, 5.15.6)\n",
      "ERROR: No matching distribution found for pyqtwebengine==5.12.1\n"
     ]
    },
    {
     "name": "stdout",
     "output_type": "stream",
     "text": [
      "Requirement already satisfied: pathlib in c:\\users\\thiag\\anaconda3\\lib\\site-packages (1.0.1)\n",
      "Requirement already satisfied: ruamel-yaml in c:\\users\\thiag\\anaconda3\\lib\\site-packages (0.17.21)\n"
     ]
    }
   ],
   "source": [
    "!pip3 install googletrans==3.1.0a0 --user\n",
    "!pip3 install pyqt5==5.12.3 --user\n",
    "!pip3 install pyqtwebengine==5.12.1 --user\n",
    "!pip3 install pathlib --user\n",
    "!pip3 install ruamel-yaml --user"
   ]
  },
  {
   "cell_type": "code",
   "execution_count": 6,
   "id": "d51a1b0e",
   "metadata": {},
   "outputs": [],
   "source": [
    "import googletrans\n",
    "from googletrans import Translator"
   ]
  },
  {
   "cell_type": "code",
   "execution_count": 7,
   "id": "76de77ba",
   "metadata": {},
   "outputs": [
    {
     "name": "stdout",
     "output_type": "stream",
     "text": [
      "{'af': 'afrikaans', 'sq': 'albanian', 'am': 'amharic', 'ar': 'arabic', 'hy': 'armenian', 'az': 'azerbaijani', 'eu': 'basque', 'be': 'belarusian', 'bn': 'bengali', 'bs': 'bosnian', 'bg': 'bulgarian', 'ca': 'catalan', 'ceb': 'cebuano', 'ny': 'chichewa', 'zh-cn': 'chinese (simplified)', 'zh-tw': 'chinese (traditional)', 'co': 'corsican', 'hr': 'croatian', 'cs': 'czech', 'da': 'danish', 'nl': 'dutch', 'en': 'english', 'eo': 'esperanto', 'et': 'estonian', 'tl': 'filipino', 'fi': 'finnish', 'fr': 'french', 'fy': 'frisian', 'gl': 'galician', 'ka': 'georgian', 'de': 'german', 'el': 'greek', 'gu': 'gujarati', 'ht': 'haitian creole', 'ha': 'hausa', 'haw': 'hawaiian', 'iw': 'hebrew', 'he': 'hebrew', 'hi': 'hindi', 'hmn': 'hmong', 'hu': 'hungarian', 'is': 'icelandic', 'ig': 'igbo', 'id': 'indonesian', 'ga': 'irish', 'it': 'italian', 'ja': 'japanese', 'jw': 'javanese', 'kn': 'kannada', 'kk': 'kazakh', 'km': 'khmer', 'ko': 'korean', 'ku': 'kurdish (kurmanji)', 'ky': 'kyrgyz', 'lo': 'lao', 'la': 'latin', 'lv': 'latvian', 'lt': 'lithuanian', 'lb': 'luxembourgish', 'mk': 'macedonian', 'mg': 'malagasy', 'ms': 'malay', 'ml': 'malayalam', 'mt': 'maltese', 'mi': 'maori', 'mr': 'marathi', 'mn': 'mongolian', 'my': 'myanmar (burmese)', 'ne': 'nepali', 'no': 'norwegian', 'or': 'odia', 'ps': 'pashto', 'fa': 'persian', 'pl': 'polish', 'pt': 'portuguese', 'pa': 'punjabi', 'ro': 'romanian', 'ru': 'russian', 'sm': 'samoan', 'gd': 'scots gaelic', 'sr': 'serbian', 'st': 'sesotho', 'sn': 'shona', 'sd': 'sindhi', 'si': 'sinhala', 'sk': 'slovak', 'sl': 'slovenian', 'so': 'somali', 'es': 'spanish', 'su': 'sundanese', 'sw': 'swahili', 'sv': 'swedish', 'tg': 'tajik', 'ta': 'tamil', 'te': 'telugu', 'th': 'thai', 'tr': 'turkish', 'uk': 'ukrainian', 'ur': 'urdu', 'ug': 'uyghur', 'uz': 'uzbek', 'vi': 'vietnamese', 'cy': 'welsh', 'xh': 'xhosa', 'yi': 'yiddish', 'yo': 'yoruba', 'zu': 'zulu'}\n"
     ]
    }
   ],
   "source": [
    "print(googletrans.LANGUAGES)"
   ]
  },
  {
   "cell_type": "code",
   "execution_count": 8,
   "id": "b442ffa4",
   "metadata": {},
   "outputs": [],
   "source": [
    "translator = Translator()"
   ]
  },
  {
   "cell_type": "code",
   "execution_count": 10,
   "id": "d7807244",
   "metadata": {},
   "outputs": [
    {
     "name": "stdout",
     "output_type": "stream",
     "text": [
      "Detected(lang=en, confidence=0.69708985)\n"
     ]
    }
   ],
   "source": [
    "print(translator.detect(\"ola\"))"
   ]
  },
  {
   "cell_type": "code",
   "execution_count": 11,
   "id": "76aa6e3c",
   "metadata": {},
   "outputs": [
    {
     "name": "stdout",
     "output_type": "stream",
     "text": [
      "Translated(src=es, dest=en, text=Hi how are things, pronunciation=Hi how are things, extra_data=\"{'translat...\")\n",
      "Hi how are things\n"
     ]
    }
   ],
   "source": [
    "ar = translator.translate('Hola que tal', src='es')\n",
    "print(ar)\n",
    "print(ar.text)"
   ]
  },
  {
   "cell_type": "code",
   "execution_count": 12,
   "id": "0065b692",
   "metadata": {},
   "outputs": [
    {
     "data": {
      "text/plain": [
       "'Oi, como estão as coisas'"
      ]
     },
     "execution_count": 12,
     "metadata": {},
     "output_type": "execute_result"
    }
   ],
   "source": [
    "translator.translate('hola, que tal', dest='pt').text"
   ]
  },
  {
   "cell_type": "code",
   "execution_count": 13,
   "id": "cc4671c6",
   "metadata": {},
   "outputs": [
    {
     "name": "stdout",
     "output_type": "stream",
     "text": [
      "Translated(src=la, dest=en, text=The truth is my light, pronunciation=The truth is my light, extra_data=\"{'translat...\")\n"
     ]
    }
   ],
   "source": [
    "print(translator.translate('veritas lux mea', src='la'))"
   ]
  },
  {
   "cell_type": "code",
   "execution_count": null,
   "id": "e26b148a",
   "metadata": {},
   "outputs": [],
   "source": []
  }
 ],
 "metadata": {
  "kernelspec": {
   "display_name": "Python 3 (ipykernel)",
   "language": "python",
   "name": "python3"
  },
  "language_info": {
   "codemirror_mode": {
    "name": "ipython",
    "version": 3
   },
   "file_extension": ".py",
   "mimetype": "text/x-python",
   "name": "python",
   "nbconvert_exporter": "python",
   "pygments_lexer": "ipython3",
   "version": "3.11.4"
  }
 },
 "nbformat": 4,
 "nbformat_minor": 5
}
