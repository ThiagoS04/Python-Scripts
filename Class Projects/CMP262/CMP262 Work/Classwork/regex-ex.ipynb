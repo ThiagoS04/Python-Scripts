{
 "cells": [
  {
   "cell_type": "markdown",
   "id": "85007658",
   "metadata": {},
   "source": [
    "### Problem 1 Handling Dollar Amounts \n",
    "Write a function, `getAmount(dollarAmount)` which takes as input a string which contains a dollar amount and returns the dollar amount represented as a float.\n",
    "\n",
    "For example,  for the input, $10,574.89, it returns 10574.89.\n",
    "\n",
    "_Hint: remove the $ and comma from the string and use astype()_"
   ]
  },
  {
   "cell_type": "code",
   "execution_count": 29,
   "metadata": {},
   "outputs": [],
   "source": [
    "import re"
   ]
  },
  {
   "cell_type": "code",
   "execution_count": 34,
   "id": "3f57712c",
   "metadata": {},
   "outputs": [],
   "source": [
    "def getAmount(dollarAmount):\n",
    "    #insert your code here\n",
    "\n",
    "    dollarAmount = re.sub(r'[\\$+,]', '', dollarAmount)\n",
    "\n",
    "    return float(dollarAmount)"
   ]
  },
  {
   "cell_type": "code",
   "execution_count": 35,
   "id": "437d0067",
   "metadata": {},
   "outputs": [
    {
     "name": "stdout",
     "output_type": "stream",
     "text": [
      "10574.89\n",
      "104.89\n",
      "1980574.89\n"
     ]
    }
   ],
   "source": [
    "#Test your code in this cell\n",
    "print(getAmount(\"$10,574.89\"))\n",
    "print(getAmount(\"$104.89\"))\n",
    "print(getAmount(\"$1,980,574.89\"))"
   ]
  },
  {
   "cell_type": "markdown",
   "id": "1c77383c",
   "metadata": {},
   "source": [
    "### Problem 2 Splitting Up Strings\n",
    "\n",
    "Write a script that reads a line of text, as a string, tokenizes the string with the `split` method and outputs the tokens in reverse order.  Use space characters as delimiters. "
   ]
  },
  {
   "cell_type": "code",
   "execution_count": 28,
   "id": "1559b55d",
   "metadata": {},
   "outputs": [],
   "source": [
    "line=\"\"\"\n",
    "As the hours of darkness begin to slowly wane from the winter sky,\n",
    "So too may the fearful places of your heart unclench their grasp on your life\n",
    "As the presence of light begins to grow with greater sureness with each passing day\n",
    "May your own courage blossom to open more brightly to truth and love.\"\"\""
   ]
  },
  {
   "cell_type": "code",
   "execution_count": 31,
   "id": "fe59fdfd",
   "metadata": {},
   "outputs": [
    {
     "name": "stdout",
     "output_type": "stream",
     "text": [
      "['love.', 'and', 'truth', 'to', 'brightly', 'more', 'open', 'to', 'blossom', 'courage', 'own', 'your', 'day\\nMay', 'passing', 'each', 'with', 'sureness', 'greater', 'with', 'grow', 'to', 'begins', 'light', 'of', 'presence', 'the', 'life\\nAs', 'your', 'on', 'grasp', 'their', 'unclench', 'heart', 'your', 'of', 'places', 'fearful', 'the', 'may', 'too', 'sky,\\nSo', 'winter', 'the', 'from', 'wane', 'slowly', 'to', 'begin', 'darkness', 'of', 'hours', 'the', '\\nAs']\n"
     ]
    }
   ],
   "source": [
    "#insert your code here\n",
    "\n",
    "#Array to hold words in string\n",
    "tokens = []\n",
    "\n",
    "#Split string into words and fill array\n",
    "for word in re.split(r' ', line):\n",
    "    tokens.append(word)\n",
    "\n",
    "#Print array in reverse order\n",
    "print(tokens[-1::-1])"
   ]
  },
  {
   "cell_type": "markdown",
   "id": "e8ad3260",
   "metadata": {},
   "source": [
    "### Problem 3 Removing White Space\n",
    "Check where a string contains more than one space between words.  If so, remove the extra spaces and display the results.  For example, 'Hello&nbsp;&nbsp;&nbsp;World' should become 'Hello World'"
   ]
  },
  {
   "cell_type": "code",
   "execution_count": null,
   "id": "d76c474b",
   "metadata": {},
   "outputs": [],
   "source": [
    "line=\"Hello    World\""
   ]
  },
  {
   "cell_type": "code",
   "execution_count": null,
   "id": "90a38ee1",
   "metadata": {},
   "outputs": [],
   "source": [
    "#insert code here\n",
    "\n"
   ]
  },
  {
   "cell_type": "markdown",
   "id": "6ef56c14",
   "metadata": {},
   "source": [
    "### Problem 4 Find and Replace\n",
    "Recall the problem with the Race field in the dataset when there was a student who was multi-racial and who selected the multiple races that they identify with.  For example there were entries with values like: Multi-Racial;Hispanic or Latino;Caucasian and Hispanic or Latine;White/Caucasian.  \n",
    "\n",
    "Create a method `cleanRace(race)` that takes as input the string containing a single race or multiple races as inputs and returns either the single race or 'Multi-Racial' otherwise.\n",
    "\n"
   ]
  },
  {
   "cell_type": "code",
   "execution_count": null,
   "id": "11d7fb7f",
   "metadata": {},
   "outputs": [],
   "source": [
    "def cleanRace(race):\n",
    "    #insert your code here\n",
    "    \n",
    "    \n",
    "    "
   ]
  },
  {
   "cell_type": "code",
   "execution_count": null,
   "id": "9030608f",
   "metadata": {},
   "outputs": [],
   "source": [
    "print(cleanRace('Multi-Racial;Hispanic or Latino;Caucasian'))  #returns Multi-Racial\n",
    "print(cleanRace('Hispanic or Latine;White/Caucasian')) #returns Multi-Racial\n",
    "print(cleanRace('Black/African-American')) #returns Black/African-American"
   ]
  }
 ],
 "metadata": {
  "kernelspec": {
   "display_name": "Python 3 (ipykernel)",
   "language": "python",
   "name": "python3"
  },
  "language_info": {
   "codemirror_mode": {
    "name": "ipython",
    "version": 3
   },
   "file_extension": ".py",
   "mimetype": "text/x-python",
   "name": "python",
   "nbconvert_exporter": "python",
   "pygments_lexer": "ipython3",
   "version": "3.12.0"
  }
 },
 "nbformat": 4,
 "nbformat_minor": 5
}
